{
  "nbformat": 4,
  "nbformat_minor": 0,
  "metadata": {
    "colab": {
      "provenance": [],
      "authorship_tag": "ABX9TyO/6vm9T4HuGgDGNxjnVSTx",
      "include_colab_link": true
    },
    "kernelspec": {
      "name": "python3",
      "display_name": "Python 3"
    },
    "language_info": {
      "name": "python"
    },
    "widgets": {
      "application/vnd.jupyter.widget-state+json": {
        "51fee6da209445b79fecb5b2cb20dc62": {
          "model_module": "@jupyter-widgets/controls",
          "model_name": "HBoxModel",
          "model_module_version": "1.5.0",
          "state": {
            "_dom_classes": [],
            "_model_module": "@jupyter-widgets/controls",
            "_model_module_version": "1.5.0",
            "_model_name": "HBoxModel",
            "_view_count": null,
            "_view_module": "@jupyter-widgets/controls",
            "_view_module_version": "1.5.0",
            "_view_name": "HBoxView",
            "box_style": "",
            "children": [
              "IPY_MODEL_308f85495aef4fc49e736213eab5505f",
              "IPY_MODEL_05c1e47f0b8a4080918f7685bdb776a5",
              "IPY_MODEL_fe1aa565674840cf80b373a1123f2daf"
            ],
            "layout": "IPY_MODEL_4f152e24a81d4dd68adb2c2fd6da1a02"
          }
        },
        "308f85495aef4fc49e736213eab5505f": {
          "model_module": "@jupyter-widgets/controls",
          "model_name": "HTMLModel",
          "model_module_version": "1.5.0",
          "state": {
            "_dom_classes": [],
            "_model_module": "@jupyter-widgets/controls",
            "_model_module_version": "1.5.0",
            "_model_name": "HTMLModel",
            "_view_count": null,
            "_view_module": "@jupyter-widgets/controls",
            "_view_module_version": "1.5.0",
            "_view_name": "HTMLView",
            "description": "",
            "description_tooltip": null,
            "layout": "IPY_MODEL_57525e35c9b541e2913cc4e8c4ba1441",
            "placeholder": "​",
            "style": "IPY_MODEL_554f5702808748e09e118afd25cf9e82",
            "value": "100%"
          }
        },
        "05c1e47f0b8a4080918f7685bdb776a5": {
          "model_module": "@jupyter-widgets/controls",
          "model_name": "FloatProgressModel",
          "model_module_version": "1.5.0",
          "state": {
            "_dom_classes": [],
            "_model_module": "@jupyter-widgets/controls",
            "_model_module_version": "1.5.0",
            "_model_name": "FloatProgressModel",
            "_view_count": null,
            "_view_module": "@jupyter-widgets/controls",
            "_view_module_version": "1.5.0",
            "_view_name": "ProgressView",
            "bar_style": "success",
            "description": "",
            "description_tooltip": null,
            "layout": "IPY_MODEL_67c02738bc814cfaa5e8191db60d6394",
            "max": 170498071,
            "min": 0,
            "orientation": "horizontal",
            "style": "IPY_MODEL_4a6626a8321b47d2a1624701be27406a",
            "value": 170498071
          }
        },
        "fe1aa565674840cf80b373a1123f2daf": {
          "model_module": "@jupyter-widgets/controls",
          "model_name": "HTMLModel",
          "model_module_version": "1.5.0",
          "state": {
            "_dom_classes": [],
            "_model_module": "@jupyter-widgets/controls",
            "_model_module_version": "1.5.0",
            "_model_name": "HTMLModel",
            "_view_count": null,
            "_view_module": "@jupyter-widgets/controls",
            "_view_module_version": "1.5.0",
            "_view_name": "HTMLView",
            "description": "",
            "description_tooltip": null,
            "layout": "IPY_MODEL_387212128b214415ada268952ee9a030",
            "placeholder": "​",
            "style": "IPY_MODEL_0a50118d8ec84bb281be483d98f3d26b",
            "value": " 170498071/170498071 [00:03&lt;00:00, 51474925.10it/s]"
          }
        },
        "4f152e24a81d4dd68adb2c2fd6da1a02": {
          "model_module": "@jupyter-widgets/base",
          "model_name": "LayoutModel",
          "model_module_version": "1.2.0",
          "state": {
            "_model_module": "@jupyter-widgets/base",
            "_model_module_version": "1.2.0",
            "_model_name": "LayoutModel",
            "_view_count": null,
            "_view_module": "@jupyter-widgets/base",
            "_view_module_version": "1.2.0",
            "_view_name": "LayoutView",
            "align_content": null,
            "align_items": null,
            "align_self": null,
            "border": null,
            "bottom": null,
            "display": null,
            "flex": null,
            "flex_flow": null,
            "grid_area": null,
            "grid_auto_columns": null,
            "grid_auto_flow": null,
            "grid_auto_rows": null,
            "grid_column": null,
            "grid_gap": null,
            "grid_row": null,
            "grid_template_areas": null,
            "grid_template_columns": null,
            "grid_template_rows": null,
            "height": null,
            "justify_content": null,
            "justify_items": null,
            "left": null,
            "margin": null,
            "max_height": null,
            "max_width": null,
            "min_height": null,
            "min_width": null,
            "object_fit": null,
            "object_position": null,
            "order": null,
            "overflow": null,
            "overflow_x": null,
            "overflow_y": null,
            "padding": null,
            "right": null,
            "top": null,
            "visibility": null,
            "width": null
          }
        },
        "57525e35c9b541e2913cc4e8c4ba1441": {
          "model_module": "@jupyter-widgets/base",
          "model_name": "LayoutModel",
          "model_module_version": "1.2.0",
          "state": {
            "_model_module": "@jupyter-widgets/base",
            "_model_module_version": "1.2.0",
            "_model_name": "LayoutModel",
            "_view_count": null,
            "_view_module": "@jupyter-widgets/base",
            "_view_module_version": "1.2.0",
            "_view_name": "LayoutView",
            "align_content": null,
            "align_items": null,
            "align_self": null,
            "border": null,
            "bottom": null,
            "display": null,
            "flex": null,
            "flex_flow": null,
            "grid_area": null,
            "grid_auto_columns": null,
            "grid_auto_flow": null,
            "grid_auto_rows": null,
            "grid_column": null,
            "grid_gap": null,
            "grid_row": null,
            "grid_template_areas": null,
            "grid_template_columns": null,
            "grid_template_rows": null,
            "height": null,
            "justify_content": null,
            "justify_items": null,
            "left": null,
            "margin": null,
            "max_height": null,
            "max_width": null,
            "min_height": null,
            "min_width": null,
            "object_fit": null,
            "object_position": null,
            "order": null,
            "overflow": null,
            "overflow_x": null,
            "overflow_y": null,
            "padding": null,
            "right": null,
            "top": null,
            "visibility": null,
            "width": null
          }
        },
        "554f5702808748e09e118afd25cf9e82": {
          "model_module": "@jupyter-widgets/controls",
          "model_name": "DescriptionStyleModel",
          "model_module_version": "1.5.0",
          "state": {
            "_model_module": "@jupyter-widgets/controls",
            "_model_module_version": "1.5.0",
            "_model_name": "DescriptionStyleModel",
            "_view_count": null,
            "_view_module": "@jupyter-widgets/base",
            "_view_module_version": "1.2.0",
            "_view_name": "StyleView",
            "description_width": ""
          }
        },
        "67c02738bc814cfaa5e8191db60d6394": {
          "model_module": "@jupyter-widgets/base",
          "model_name": "LayoutModel",
          "model_module_version": "1.2.0",
          "state": {
            "_model_module": "@jupyter-widgets/base",
            "_model_module_version": "1.2.0",
            "_model_name": "LayoutModel",
            "_view_count": null,
            "_view_module": "@jupyter-widgets/base",
            "_view_module_version": "1.2.0",
            "_view_name": "LayoutView",
            "align_content": null,
            "align_items": null,
            "align_self": null,
            "border": null,
            "bottom": null,
            "display": null,
            "flex": null,
            "flex_flow": null,
            "grid_area": null,
            "grid_auto_columns": null,
            "grid_auto_flow": null,
            "grid_auto_rows": null,
            "grid_column": null,
            "grid_gap": null,
            "grid_row": null,
            "grid_template_areas": null,
            "grid_template_columns": null,
            "grid_template_rows": null,
            "height": null,
            "justify_content": null,
            "justify_items": null,
            "left": null,
            "margin": null,
            "max_height": null,
            "max_width": null,
            "min_height": null,
            "min_width": null,
            "object_fit": null,
            "object_position": null,
            "order": null,
            "overflow": null,
            "overflow_x": null,
            "overflow_y": null,
            "padding": null,
            "right": null,
            "top": null,
            "visibility": null,
            "width": null
          }
        },
        "4a6626a8321b47d2a1624701be27406a": {
          "model_module": "@jupyter-widgets/controls",
          "model_name": "ProgressStyleModel",
          "model_module_version": "1.5.0",
          "state": {
            "_model_module": "@jupyter-widgets/controls",
            "_model_module_version": "1.5.0",
            "_model_name": "ProgressStyleModel",
            "_view_count": null,
            "_view_module": "@jupyter-widgets/base",
            "_view_module_version": "1.2.0",
            "_view_name": "StyleView",
            "bar_color": null,
            "description_width": ""
          }
        },
        "387212128b214415ada268952ee9a030": {
          "model_module": "@jupyter-widgets/base",
          "model_name": "LayoutModel",
          "model_module_version": "1.2.0",
          "state": {
            "_model_module": "@jupyter-widgets/base",
            "_model_module_version": "1.2.0",
            "_model_name": "LayoutModel",
            "_view_count": null,
            "_view_module": "@jupyter-widgets/base",
            "_view_module_version": "1.2.0",
            "_view_name": "LayoutView",
            "align_content": null,
            "align_items": null,
            "align_self": null,
            "border": null,
            "bottom": null,
            "display": null,
            "flex": null,
            "flex_flow": null,
            "grid_area": null,
            "grid_auto_columns": null,
            "grid_auto_flow": null,
            "grid_auto_rows": null,
            "grid_column": null,
            "grid_gap": null,
            "grid_row": null,
            "grid_template_areas": null,
            "grid_template_columns": null,
            "grid_template_rows": null,
            "height": null,
            "justify_content": null,
            "justify_items": null,
            "left": null,
            "margin": null,
            "max_height": null,
            "max_width": null,
            "min_height": null,
            "min_width": null,
            "object_fit": null,
            "object_position": null,
            "order": null,
            "overflow": null,
            "overflow_x": null,
            "overflow_y": null,
            "padding": null,
            "right": null,
            "top": null,
            "visibility": null,
            "width": null
          }
        },
        "0a50118d8ec84bb281be483d98f3d26b": {
          "model_module": "@jupyter-widgets/controls",
          "model_name": "DescriptionStyleModel",
          "model_module_version": "1.5.0",
          "state": {
            "_model_module": "@jupyter-widgets/controls",
            "_model_module_version": "1.5.0",
            "_model_name": "DescriptionStyleModel",
            "_view_count": null,
            "_view_module": "@jupyter-widgets/base",
            "_view_module_version": "1.2.0",
            "_view_name": "StyleView",
            "description_width": ""
          }
        }
      }
    },
    "accelerator": "GPU",
    "gpuClass": "standard"
  },
  "cells": [
    {
      "cell_type": "markdown",
      "metadata": {
        "id": "view-in-github",
        "colab_type": "text"
      },
      "source": [
        "<a href=\"https://colab.research.google.com/github/ram130849/VQ_VAE/blob/main/VQ_VAE.ipynb\" target=\"_parent\"><img src=\"https://colab.research.google.com/assets/colab-badge.svg\" alt=\"Open In Colab\"/></a>"
      ]
    },
    {
      "cell_type": "code",
      "source": [
        "!pip install umap-learn"
      ],
      "metadata": {
        "colab": {
          "base_uri": "https://localhost:8080/"
        },
        "id": "Di2KqVyvWTkJ",
        "outputId": "6f4eb694-05e6-44ff-af56-fc072832b530"
      },
      "execution_count": 3,
      "outputs": [
        {
          "output_type": "stream",
          "name": "stdout",
          "text": [
            "Looking in indexes: https://pypi.org/simple, https://us-python.pkg.dev/colab-wheels/public/simple/\n",
            "Collecting umap-learn\n",
            "  Downloading umap-learn-0.5.3.tar.gz (88 kB)\n",
            "\u001b[K     |████████████████████████████████| 88 kB 2.4 MB/s \n",
            "\u001b[?25hRequirement already satisfied: numpy>=1.17 in /usr/local/lib/python3.7/dist-packages (from umap-learn) (1.21.6)\n",
            "Requirement already satisfied: scikit-learn>=0.22 in /usr/local/lib/python3.7/dist-packages (from umap-learn) (1.0.2)\n",
            "Requirement already satisfied: scipy>=1.0 in /usr/local/lib/python3.7/dist-packages (from umap-learn) (1.7.3)\n",
            "Requirement already satisfied: numba>=0.49 in /usr/local/lib/python3.7/dist-packages (from umap-learn) (0.56.2)\n",
            "Collecting pynndescent>=0.5\n",
            "  Downloading pynndescent-0.5.7.tar.gz (1.1 MB)\n",
            "\u001b[K     |████████████████████████████████| 1.1 MB 12.5 MB/s \n",
            "\u001b[?25hRequirement already satisfied: tqdm in /usr/local/lib/python3.7/dist-packages (from umap-learn) (4.64.1)\n",
            "Requirement already satisfied: setuptools<60 in /usr/local/lib/python3.7/dist-packages (from numba>=0.49->umap-learn) (57.4.0)\n",
            "Requirement already satisfied: llvmlite<0.40,>=0.39.0dev0 in /usr/local/lib/python3.7/dist-packages (from numba>=0.49->umap-learn) (0.39.1)\n",
            "Requirement already satisfied: importlib-metadata in /usr/local/lib/python3.7/dist-packages (from numba>=0.49->umap-learn) (4.12.0)\n",
            "Requirement already satisfied: joblib>=0.11 in /usr/local/lib/python3.7/dist-packages (from pynndescent>=0.5->umap-learn) (1.1.0)\n",
            "Requirement already satisfied: threadpoolctl>=2.0.0 in /usr/local/lib/python3.7/dist-packages (from scikit-learn>=0.22->umap-learn) (3.1.0)\n",
            "Requirement already satisfied: typing-extensions>=3.6.4 in /usr/local/lib/python3.7/dist-packages (from importlib-metadata->numba>=0.49->umap-learn) (4.1.1)\n",
            "Requirement already satisfied: zipp>=0.5 in /usr/local/lib/python3.7/dist-packages (from importlib-metadata->numba>=0.49->umap-learn) (3.8.1)\n",
            "Building wheels for collected packages: umap-learn, pynndescent\n",
            "  Building wheel for umap-learn (setup.py) ... \u001b[?25l\u001b[?25hdone\n",
            "  Created wheel for umap-learn: filename=umap_learn-0.5.3-py3-none-any.whl size=82829 sha256=9b5e6fcc12a60153bd90d78b82c90119c9ae89a416742750c737180392020155\n",
            "  Stored in directory: /root/.cache/pip/wheels/b3/52/a5/1fd9e3e76a7ab34f134c07469cd6f16e27ef3a37aeff1fe821\n",
            "  Building wheel for pynndescent (setup.py) ... \u001b[?25l\u001b[?25hdone\n",
            "  Created wheel for pynndescent: filename=pynndescent-0.5.7-py3-none-any.whl size=54286 sha256=6f3eb8186e3a9038657bfb912be1c2d305c1506ac15ae4e0f806473e8001eb74\n",
            "  Stored in directory: /root/.cache/pip/wheels/7f/2a/f8/7bd5dcec71bd5c669f6f574db3113513696b98f3f9b51f496c\n",
            "Successfully built umap-learn pynndescent\n",
            "Installing collected packages: pynndescent, umap-learn\n",
            "Successfully installed pynndescent-0.5.7 umap-learn-0.5.3\n"
          ]
        }
      ]
    },
    {
      "cell_type": "code",
      "execution_count": 4,
      "metadata": {
        "id": "M9vci5DQZCj_"
      },
      "outputs": [],
      "source": [
        "import matplotlib.pyplot as plt\n",
        "import numpy as np\n",
        "from scipy.signal import savgol_filter\n",
        "import umap\n",
        "\n",
        "\n",
        "import torch\n",
        "import torch.nn as nn\n",
        "import torch.nn.functional as F\n",
        "from torch.utils.data import DataLoader\n",
        "import torch.optim as optim\n",
        "\n",
        "import torchvision.datasets as datasets\n",
        "import torchvision.transforms as transforms\n",
        "from torchvision.utils import make_grid"
      ]
    },
    {
      "cell_type": "code",
      "source": [
        "device = torch.device(\"cuda\" if torch.cuda.is_available() else \"cpu\")"
      ],
      "metadata": {
        "id": "Ud0iJW2XThd1"
      },
      "execution_count": 6,
      "outputs": []
    },
    {
      "cell_type": "code",
      "source": [
        "print(device)"
      ],
      "metadata": {
        "id": "syyPJlL3Pcgn",
        "outputId": "a681e623-55a3-40ca-f8a1-099301e35048",
        "colab": {
          "base_uri": "https://localhost:8080/"
        }
      },
      "execution_count": 7,
      "outputs": [
        {
          "output_type": "stream",
          "name": "stdout",
          "text": [
            "cuda\n"
          ]
        }
      ]
    },
    {
      "cell_type": "code",
      "source": [
        "training_data = datasets.CIFAR10(root=\"data\", train=True, download=True,\n",
        "                                 transform = transforms.Compose([\n",
        "                                     transforms.ToTensor(),\n",
        "                                     transforms.Normalize((0.5,0.5,0.5),(1,1,1))\n",
        "                                 ]))"
      ],
      "metadata": {
        "colab": {
          "base_uri": "https://localhost:8080/",
          "height": 84,
          "referenced_widgets": [
            "51fee6da209445b79fecb5b2cb20dc62",
            "308f85495aef4fc49e736213eab5505f",
            "05c1e47f0b8a4080918f7685bdb776a5",
            "fe1aa565674840cf80b373a1123f2daf",
            "4f152e24a81d4dd68adb2c2fd6da1a02",
            "57525e35c9b541e2913cc4e8c4ba1441",
            "554f5702808748e09e118afd25cf9e82",
            "67c02738bc814cfaa5e8191db60d6394",
            "4a6626a8321b47d2a1624701be27406a",
            "387212128b214415ada268952ee9a030",
            "0a50118d8ec84bb281be483d98f3d26b"
          ]
        },
        "id": "B8CFgX9DThls",
        "outputId": "11d885eb-352d-4e5f-9d5a-2829062845e6"
      },
      "execution_count": 8,
      "outputs": [
        {
          "output_type": "stream",
          "name": "stdout",
          "text": [
            "Downloading https://www.cs.toronto.edu/~kriz/cifar-10-python.tar.gz to data/cifar-10-python.tar.gz\n"
          ]
        },
        {
          "output_type": "display_data",
          "data": {
            "text/plain": [
              "  0%|          | 0/170498071 [00:00<?, ?it/s]"
            ],
            "application/vnd.jupyter.widget-view+json": {
              "version_major": 2,
              "version_minor": 0,
              "model_id": "51fee6da209445b79fecb5b2cb20dc62"
            }
          },
          "metadata": {}
        },
        {
          "output_type": "stream",
          "name": "stdout",
          "text": [
            "Extracting data/cifar-10-python.tar.gz to data\n"
          ]
        }
      ]
    },
    {
      "cell_type": "code",
      "source": [
        "validation_data = datasets.CIFAR10(root=\"data\",train=False,download=True,\n",
        "                                   transform = transforms.Compose([\n",
        "                                       transforms.ToTensor(),\n",
        "                                       transforms.Normalize((0.5,0.5,0.5),(1.0,1.0,1.0))\n",
        "                                   ]))"
      ],
      "metadata": {
        "colab": {
          "base_uri": "https://localhost:8080/"
        },
        "id": "e52UJNfgThtU",
        "outputId": "b9e2a28a-ae4f-4fd1-ec6c-8514b59e068a"
      },
      "execution_count": 9,
      "outputs": [
        {
          "output_type": "stream",
          "name": "stdout",
          "text": [
            "Files already downloaded and verified\n"
          ]
        }
      ]
    },
    {
      "cell_type": "code",
      "source": [
        "data_var = np.var(training_data.data/255.0)"
      ],
      "metadata": {
        "id": "XZXjk__kThzX"
      },
      "execution_count": 10,
      "outputs": []
    },
    {
      "cell_type": "code",
      "source": [
        "class VectorQuantizer(nn.Module):\n",
        "    def __init__(self,no_embeddings:int,embedding_dim:int,commit_loss:float):\n",
        "        super(VectorQuantizer,self).__init__()\n",
        "        self.K = no_embeddings\n",
        "        self.D = embedding_dim\n",
        "        self.commit_loss = commit_loss\n",
        "\n",
        "        self.embedding = nn.Embedding(self.K,self.D)\n",
        "        self.embedding.weight.data.uniform(-1/self.K,1/self.K)\n",
        "\n",
        "    def forward(self,latents):\n",
        "        # convert the input from BCHW --> BHWC\n",
        "        latents = latents.permute(0,2,3,1).contiguous()\n",
        "        latent_shape = latents.shape\n",
        "\n",
        "        # Flatten_Input.\n",
        "        flat_input = latents.view(-1,self.D)\n",
        "\n",
        "        # Calculate L2 distances between the latent space and embedding weights\n",
        "        distances = (torch.sum(flat_input**2,dim=1,keepdim=True)+torch.sm(self.embedding.weight**2,dim=1)- \n",
        "                     2*torch.matmul(flat_input,self.embedding.weight.t()))\n",
        "\n",
        "        # Encoding - get the encoding that has the min distance and convert it to one-hot encodings.\n",
        "        encoding_idx = torch.argmin(distances,dim=1).unsqueeze(1)\n",
        "        encodings = torch.zeros(encoding_idx.shape[0],self.K,device=latents.device)\n",
        "        encodings.scatter_(1,encoding_idx,1) # [BHW * K]\n",
        "\n",
        "        # Quantize and unflatten the latents.\n",
        "        quantized = torch.matmul(encodings,self.embedding.weight).view(latent_shape) # [BHW,D] --> [B*H*W*D]\n",
        "\n",
        "        # Loss\n",
        "        commitment_loss = F.mse_loss(quantized.detach(),latents)\n",
        "        embedding_loss  = F.mse_loss(quantized,latents.detach())\n",
        "\n",
        "        vq_loss = commitment_loss * self.commit_loss + embedding_loss\n",
        "\n",
        "        quantized = latents + (quantized - latents).detach() \n",
        "        # convert quantized from BHWC --> BCHW\n",
        "        return quantized.permute(0,3,1,2).contiguous(), vq_loss # [B*C*H*W]"
      ],
      "metadata": {
        "id": "7naOPxmbTh3y"
      },
      "execution_count": 11,
      "outputs": []
    },
    {
      "cell_type": "code",
      "source": [
        "### We will also implement a slightly modified version which will use exponential moving averages to update the embedding vectors instead of an \n",
        "### auxillary loss. This has the advantage that the embedding updates are independent of the choice of optimizer for the encoder, decoder and other \n",
        "### parts of the architecture.For most experiments the EMA version trains faster than the non-EMA version."
      ],
      "metadata": {
        "id": "-4jsh0bFTh8F"
      },
      "execution_count": null,
      "outputs": []
    },
    {
      "cell_type": "code",
      "source": [
        "class VectorQuantizerEMA(nn.Module):\n",
        "    def __init__(self,no_embeddings,embedding_dim,commit_loss,decay,epsilon=1e-5):\n",
        "        super(VectorQuantizerEMA,self).__init__()\n",
        "        self.K = no_embeddings\n",
        "        self.D = embedding_dim\n",
        "\n",
        "        self.embedding = nn.Embedding(self.K,self.D)\n",
        "        self.embedding.weight.data.normal_()\n",
        "        self.commit_loss = commit_loss\n",
        "\n",
        "        self.register_buffer('_ema_cluster_size',torch.zeros(self.K))\n",
        "        self.ema_w = nn.Parameter(torch.Tensor(self.K,self.D))\n",
        "        self.ema_w.data.normal_()\n",
        "\n",
        "        self.decay = decay\n",
        "        self.epsilon = epsilon\n",
        "\n",
        "    def forward(self,latents):\n",
        "        # convert inputs from BCHW --> BHWC\n",
        "        latents = latents.permute(0,2,3,1).contiguous()\n",
        "        latent_shape = latents.shape\n",
        "\n",
        "        # Flatten_Input\n",
        "        flat_input = latents.view(-1,self.D)\n",
        "\n",
        "        # Calculate Distances.\n",
        "        distances = (torch.sum(flat_input**2,dim=1,keepdim=True)+\n",
        "                     torch.sum(self.embedding.weight**2,dim=1)\n",
        "                     - 2*torch.matmul(flat_input,self.embedding.weight.t()))\n",
        "        # Encoding\n",
        "        encoding_idx = torch.argmin(distances,dim=1).unsqueeze(1)\n",
        "        encodings = torch.zeros(encoding_idx.shape[0],self.K,device=latents.device)\n",
        "        encodings.scatter_(1,encoding_idx,1)\n",
        "\n",
        "        # Quantize and unflatten\n",
        "        quantized = torch.matmul(encodings,self.embedding.weight).view(latent_shape)\n",
        "\n",
        "        # Use EMA to update the embedding vectors\n",
        "        if(self.training):\n",
        "            self._ema_cluster_size = self._ema_cluster_size*self.decay + (1-self.decay) * torch.sum(encodings,0)\n",
        "\n",
        "            # Laplace Smoothing of the cluster Size.\n",
        "            ema_cluster_sum = torch.sum(self._ema_cluster_size.data)\n",
        "            self._ema_cluster_size = ((self._ema_cluster_size + self.epsilon)/(ema_cluster_sum + self.K*self.epsilon)*ema_cluster_sum)\n",
        "            dw = torch.matmul(encodings.t(),flat_input)\n",
        "            self.ema_w = nn.Parameter(self.ema_w*self.decay + (1-self.decay)*dw)\n",
        "            self.embedding.weight = nn.Parameter(self.ema_w/ self._ema_cluster_size.unsqueeze(1))\n",
        "\n",
        "        # Loss\n",
        "        commitment_loss = F.mse_loss(quantized.detach(),latents)\n",
        "        loss = self.commit_loss*commitment_loss\n",
        "\n",
        "        # Straight through Estimator\n",
        "        quantized = latents + (quantized - latents).detach()\n",
        "        avg_probs = torch.mean(encodings,dim=0)\n",
        "        perplexity = torch.exp(-torch.sum(avg_probs*torch.log(avg_probs+1e-10)))\n",
        "\n",
        "        #convert quantized from BHWC --> BCHW\n",
        "        return loss, quantized.permute(0,3,1,2).contiguous(), perplexity, encodings"
      ],
      "metadata": {
        "id": "FvgEdzU3TiAH"
      },
      "execution_count": 12,
      "outputs": []
    },
    {
      "cell_type": "code",
      "source": [
        "class Residual(nn.Module):\n",
        "    def __init__(self,input_chnl,no_hidden,no_residual_hidden):\n",
        "        super(Residual,self).__init__()\n",
        "        self._block = nn.Sequential(\n",
        "            nn.ReLU(True),\n",
        "            nn.Conv2d(in_channels=input_chnl,out_channels=no_residual_hidden,\n",
        "                      kernel_size=3,stride=1,padding=1,bias=False),\n",
        "            nn.ReLU(True),\n",
        "            nn.Conv2d(in_channels=no_residual_hidden,out_channels=no_hidden,\n",
        "                      kernel_size=1,stride=1,bias=False)\n",
        "        )\n",
        "    def forward(self,x):\n",
        "        return x + self._block(x)"
      ],
      "metadata": {
        "id": "9vkKa25NTiLR"
      },
      "execution_count": 13,
      "outputs": []
    },
    {
      "cell_type": "code",
      "source": [
        "class ResidualStack(nn.Module):\n",
        "    def __init__(self,in_channels,no_hiddens,no_residual_layers,no_residual_hidden):\n",
        "      super(ResidualStack,self).__init__()\n",
        "      self._no_residual_layers = no_residual_layers\n",
        "      self._layers = nn.ModuleList([Residual(input_chnl=in_channels,no_hidden=no_hiddens,no_residual_hidden=no_residual_hidden)\n",
        "                                     for _ in range(self._no_residual_layers)])\n",
        "      \n",
        "    def forward(self,x):\n",
        "      for i in range(self._no_residual_layers):\n",
        "            x = self._layers[i](x)\n",
        "      return F.relu(x)"
      ],
      "metadata": {
        "id": "rluc-ZXBTiRr"
      },
      "execution_count": 14,
      "outputs": []
    },
    {
      "cell_type": "code",
      "source": [
        "class Encoder(nn.Module):\n",
        "    def __init__(self,in_channels,no_hiddens,no_residual_layers,no_residual_hidden):\n",
        "        super(Encoder,self).__init__()\n",
        "\n",
        "        self.conv1 = nn.Conv2d(in_channels=in_channels,\n",
        "                               out_channels=no_hiddens//2,\n",
        "                               kernel_size=4,\n",
        "                               stride=2,padding=1)\n",
        "\n",
        "        self.conv2 = nn.Conv2d(in_channels=no_hiddens//2,\n",
        "                               out_channels=no_hiddens,\n",
        "                               kernel_size=4,\n",
        "                               stride=2,padding=1)\n",
        "\n",
        "        self.conv3 = nn.Conv2d(in_channels=no_hiddens,\n",
        "                               out_channels=no_hiddens,\n",
        "                               kernel_size=3,\n",
        "                               stride=1,padding=1)\n",
        "\n",
        "        self._residual_stack = ResidualStack(in_channels=no_hiddens,no_hiddens=no_hiddens,\n",
        "                                             no_residual_layers = no_residual_layers,\n",
        "                                             no_residual_hidden=no_residual_hidden)\n",
        "        \n",
        "    def forward(self,latents):\n",
        "        x = self.conv1(latents)\n",
        "        x = F.relu(x)\n",
        "\n",
        "        x = self.conv2(x)\n",
        "        x = F.relu(x)\n",
        "\n",
        "        x = self.conv3(x)\n",
        "        return self._residual_stack(x)"
      ],
      "metadata": {
        "id": "KR2TtzijTiZb"
      },
      "execution_count": 15,
      "outputs": []
    },
    {
      "cell_type": "code",
      "source": [
        "class Decoder(nn.Module):\n",
        "    def __init__(self,in_channels,no_hiddens,no_residual_layers,no_residual_hidden):\n",
        "          super(Decoder,self).__init__()\n",
        "          self._conv1 = nn.Conv2d(in_channels=in_channels,\n",
        "                                  out_channels = no_hiddens,\n",
        "                                  kernel_size=3,stride=1,padding=1)\n",
        "\n",
        "          self.residual_stack = ResidualStack(in_channels=no_hiddens,\n",
        "                                              no_hiddens = no_hiddens,\n",
        "                                              no_residual_layers = no_residual_layers\n",
        "                                              ,no_residual_hidden=no_residual_hidden)\n",
        "\n",
        "          self._conv_trans_1 = nn.ConvTranspose2d(in_channels=no_hiddens,\n",
        "                                                  out_channels = no_hiddens//2,\n",
        "                                                  kernel_size=4,stride=2,\n",
        "                                                  padding=1)\n",
        "\n",
        "          self._conv_trans_2 = nn.ConvTranspose2d(in_channels=no_hiddens//2,\n",
        "                                                  out_channels = 3,\n",
        "                                                  kernel_size=4,stride=2,\n",
        "                                                  padding=1)\n",
        "    def forward(self,inputs):\n",
        "        x = self._conv1(inputs)\n",
        "\n",
        "        x = self.residual_stack(x)\n",
        "\n",
        "        x = self._conv_trans_1(x)\n",
        "        x = F.relu(x)\n",
        "\n",
        "        return self._conv_trans_2(x)"
      ],
      "metadata": {
        "id": "RaPAu4ZKTigu"
      },
      "execution_count": 16,
      "outputs": []
    },
    {
      "cell_type": "code",
      "source": [
        "batch_size = 256\n",
        "no_training_updates = 15000\n",
        "no_hiddens = 128\n",
        "no_residual_hidden = 32\n",
        "no_residual_layers = 34\n",
        "\n",
        "embedding_dim = 64\n",
        "no_embeddings = 512\n",
        "\n",
        "commit_loss = 0.25\n",
        "decay = 0.90\n",
        "lr = 0.001"
      ],
      "metadata": {
        "id": "JprbpLuWTimm"
      },
      "execution_count": 17,
      "outputs": []
    },
    {
      "cell_type": "code",
      "source": [
        "training_loader = DataLoader(training_data,\n",
        "                             batch_size=batch_size,\n",
        "                             shuffle=True,\n",
        "                             pin_memory=True)\n",
        "\n",
        "validation_loader = DataLoader(validation_data,\n",
        "                               batch_size=32,\n",
        "                               shuffle=True,\n",
        "                               pin_memory=True)"
      ],
      "metadata": {
        "id": "IObLS1PrTits"
      },
      "execution_count": 18,
      "outputs": []
    },
    {
      "cell_type": "code",
      "source": [
        "class Model(nn.Module):\n",
        "    def __init__(self,no_hiddens,no_residual_layers,no_residual_hidden,no_embeddings,embedding_dim,commit_loss,decay=0):\n",
        "        super(Model,self).__init__()\n",
        "\n",
        "        self._encoder = Encoder(3,no_hiddens,\n",
        "                                no_residual_layers,\n",
        "                                no_residual_hidden)\n",
        "\n",
        "        self.pre_vq_conv = nn.Conv2d(in_channels = no_hiddens,\n",
        "                                     out_channels = embedding_dim,\n",
        "                                     kernel_size=1,stride=1)\n",
        "        \n",
        "        if(decay>0.0):\n",
        "            self._vq_vae = VectorQuantizerEMA(no_embeddings,embedding_dim,commit_loss,decay)\n",
        "        else:\n",
        "            self._vq_vae = VectorQuantizer(no_embeddings,embedding_dim,commit_loss)\n",
        "        \n",
        "        self._decoder = Decoder(in_channels = embedding_dim,\n",
        "                                no_hiddens = no_hiddens,\n",
        "                                no_residual_layers = no_residual_layers,\n",
        "                                no_residual_hidden=no_residual_hidden)\n",
        "\n",
        "    def forward(self,x):\n",
        "        z = self._encoder(x)\n",
        "\n",
        "        z = self.pre_vq_conv(z)\n",
        "\n",
        "        loss,quantized,perplexity,_ = self._vq_vae(z)\n",
        "\n",
        "        x_recon = self._decoder(quantized)\n",
        "\n",
        "        return loss,x_recon,perplexity\n",
        "          "
      ],
      "metadata": {
        "id": "CVs848d3Tizf"
      },
      "execution_count": 19,
      "outputs": []
    },
    {
      "cell_type": "code",
      "source": [
        "model = Model(no_hiddens,no_residual_layers,\n",
        "              no_residual_hidden,no_embeddings,\n",
        "              embedding_dim,commit_loss,decay).to(device)"
      ],
      "metadata": {
        "id": "R50XR7ehTi44"
      },
      "execution_count": 20,
      "outputs": []
    },
    {
      "cell_type": "code",
      "source": [
        "for name, param in model.named_parameters():\n",
        "    if param.requires_grad:\n",
        "        print(name, param.data.shape)"
      ],
      "metadata": {
        "id": "JQ4dEg3eTi-2",
        "colab": {
          "base_uri": "https://localhost:8080/"
        },
        "outputId": "6914c08d-999a-48b1-9c85-dd3cc39789b5"
      },
      "execution_count": 21,
      "outputs": [
        {
          "output_type": "stream",
          "name": "stdout",
          "text": [
            "_encoder.conv1.weight torch.Size([64, 3, 4, 4])\n",
            "_encoder.conv1.bias torch.Size([64])\n",
            "_encoder.conv2.weight torch.Size([128, 64, 4, 4])\n",
            "_encoder.conv2.bias torch.Size([128])\n",
            "_encoder.conv3.weight torch.Size([128, 128, 3, 3])\n",
            "_encoder.conv3.bias torch.Size([128])\n",
            "_encoder._residual_stack._layers.0._block.1.weight torch.Size([32, 128, 3, 3])\n",
            "_encoder._residual_stack._layers.0._block.3.weight torch.Size([128, 32, 1, 1])\n",
            "_encoder._residual_stack._layers.1._block.1.weight torch.Size([32, 128, 3, 3])\n",
            "_encoder._residual_stack._layers.1._block.3.weight torch.Size([128, 32, 1, 1])\n",
            "_encoder._residual_stack._layers.2._block.1.weight torch.Size([32, 128, 3, 3])\n",
            "_encoder._residual_stack._layers.2._block.3.weight torch.Size([128, 32, 1, 1])\n",
            "_encoder._residual_stack._layers.3._block.1.weight torch.Size([32, 128, 3, 3])\n",
            "_encoder._residual_stack._layers.3._block.3.weight torch.Size([128, 32, 1, 1])\n",
            "_encoder._residual_stack._layers.4._block.1.weight torch.Size([32, 128, 3, 3])\n",
            "_encoder._residual_stack._layers.4._block.3.weight torch.Size([128, 32, 1, 1])\n",
            "_encoder._residual_stack._layers.5._block.1.weight torch.Size([32, 128, 3, 3])\n",
            "_encoder._residual_stack._layers.5._block.3.weight torch.Size([128, 32, 1, 1])\n",
            "_encoder._residual_stack._layers.6._block.1.weight torch.Size([32, 128, 3, 3])\n",
            "_encoder._residual_stack._layers.6._block.3.weight torch.Size([128, 32, 1, 1])\n",
            "_encoder._residual_stack._layers.7._block.1.weight torch.Size([32, 128, 3, 3])\n",
            "_encoder._residual_stack._layers.7._block.3.weight torch.Size([128, 32, 1, 1])\n",
            "_encoder._residual_stack._layers.8._block.1.weight torch.Size([32, 128, 3, 3])\n",
            "_encoder._residual_stack._layers.8._block.3.weight torch.Size([128, 32, 1, 1])\n",
            "_encoder._residual_stack._layers.9._block.1.weight torch.Size([32, 128, 3, 3])\n",
            "_encoder._residual_stack._layers.9._block.3.weight torch.Size([128, 32, 1, 1])\n",
            "_encoder._residual_stack._layers.10._block.1.weight torch.Size([32, 128, 3, 3])\n",
            "_encoder._residual_stack._layers.10._block.3.weight torch.Size([128, 32, 1, 1])\n",
            "_encoder._residual_stack._layers.11._block.1.weight torch.Size([32, 128, 3, 3])\n",
            "_encoder._residual_stack._layers.11._block.3.weight torch.Size([128, 32, 1, 1])\n",
            "_encoder._residual_stack._layers.12._block.1.weight torch.Size([32, 128, 3, 3])\n",
            "_encoder._residual_stack._layers.12._block.3.weight torch.Size([128, 32, 1, 1])\n",
            "_encoder._residual_stack._layers.13._block.1.weight torch.Size([32, 128, 3, 3])\n",
            "_encoder._residual_stack._layers.13._block.3.weight torch.Size([128, 32, 1, 1])\n",
            "_encoder._residual_stack._layers.14._block.1.weight torch.Size([32, 128, 3, 3])\n",
            "_encoder._residual_stack._layers.14._block.3.weight torch.Size([128, 32, 1, 1])\n",
            "_encoder._residual_stack._layers.15._block.1.weight torch.Size([32, 128, 3, 3])\n",
            "_encoder._residual_stack._layers.15._block.3.weight torch.Size([128, 32, 1, 1])\n",
            "_encoder._residual_stack._layers.16._block.1.weight torch.Size([32, 128, 3, 3])\n",
            "_encoder._residual_stack._layers.16._block.3.weight torch.Size([128, 32, 1, 1])\n",
            "_encoder._residual_stack._layers.17._block.1.weight torch.Size([32, 128, 3, 3])\n",
            "_encoder._residual_stack._layers.17._block.3.weight torch.Size([128, 32, 1, 1])\n",
            "_encoder._residual_stack._layers.18._block.1.weight torch.Size([32, 128, 3, 3])\n",
            "_encoder._residual_stack._layers.18._block.3.weight torch.Size([128, 32, 1, 1])\n",
            "_encoder._residual_stack._layers.19._block.1.weight torch.Size([32, 128, 3, 3])\n",
            "_encoder._residual_stack._layers.19._block.3.weight torch.Size([128, 32, 1, 1])\n",
            "_encoder._residual_stack._layers.20._block.1.weight torch.Size([32, 128, 3, 3])\n",
            "_encoder._residual_stack._layers.20._block.3.weight torch.Size([128, 32, 1, 1])\n",
            "_encoder._residual_stack._layers.21._block.1.weight torch.Size([32, 128, 3, 3])\n",
            "_encoder._residual_stack._layers.21._block.3.weight torch.Size([128, 32, 1, 1])\n",
            "_encoder._residual_stack._layers.22._block.1.weight torch.Size([32, 128, 3, 3])\n",
            "_encoder._residual_stack._layers.22._block.3.weight torch.Size([128, 32, 1, 1])\n",
            "_encoder._residual_stack._layers.23._block.1.weight torch.Size([32, 128, 3, 3])\n",
            "_encoder._residual_stack._layers.23._block.3.weight torch.Size([128, 32, 1, 1])\n",
            "_encoder._residual_stack._layers.24._block.1.weight torch.Size([32, 128, 3, 3])\n",
            "_encoder._residual_stack._layers.24._block.3.weight torch.Size([128, 32, 1, 1])\n",
            "_encoder._residual_stack._layers.25._block.1.weight torch.Size([32, 128, 3, 3])\n",
            "_encoder._residual_stack._layers.25._block.3.weight torch.Size([128, 32, 1, 1])\n",
            "_encoder._residual_stack._layers.26._block.1.weight torch.Size([32, 128, 3, 3])\n",
            "_encoder._residual_stack._layers.26._block.3.weight torch.Size([128, 32, 1, 1])\n",
            "_encoder._residual_stack._layers.27._block.1.weight torch.Size([32, 128, 3, 3])\n",
            "_encoder._residual_stack._layers.27._block.3.weight torch.Size([128, 32, 1, 1])\n",
            "_encoder._residual_stack._layers.28._block.1.weight torch.Size([32, 128, 3, 3])\n",
            "_encoder._residual_stack._layers.28._block.3.weight torch.Size([128, 32, 1, 1])\n",
            "_encoder._residual_stack._layers.29._block.1.weight torch.Size([32, 128, 3, 3])\n",
            "_encoder._residual_stack._layers.29._block.3.weight torch.Size([128, 32, 1, 1])\n",
            "_encoder._residual_stack._layers.30._block.1.weight torch.Size([32, 128, 3, 3])\n",
            "_encoder._residual_stack._layers.30._block.3.weight torch.Size([128, 32, 1, 1])\n",
            "_encoder._residual_stack._layers.31._block.1.weight torch.Size([32, 128, 3, 3])\n",
            "_encoder._residual_stack._layers.31._block.3.weight torch.Size([128, 32, 1, 1])\n",
            "_encoder._residual_stack._layers.32._block.1.weight torch.Size([32, 128, 3, 3])\n",
            "_encoder._residual_stack._layers.32._block.3.weight torch.Size([128, 32, 1, 1])\n",
            "_encoder._residual_stack._layers.33._block.1.weight torch.Size([32, 128, 3, 3])\n",
            "_encoder._residual_stack._layers.33._block.3.weight torch.Size([128, 32, 1, 1])\n",
            "pre_vq_conv.weight torch.Size([64, 128, 1, 1])\n",
            "pre_vq_conv.bias torch.Size([64])\n",
            "_vq_vae.ema_w torch.Size([512, 64])\n",
            "_vq_vae.embedding.weight torch.Size([512, 64])\n",
            "_decoder._conv1.weight torch.Size([128, 64, 3, 3])\n",
            "_decoder._conv1.bias torch.Size([128])\n",
            "_decoder.residual_stack._layers.0._block.1.weight torch.Size([32, 128, 3, 3])\n",
            "_decoder.residual_stack._layers.0._block.3.weight torch.Size([128, 32, 1, 1])\n",
            "_decoder.residual_stack._layers.1._block.1.weight torch.Size([32, 128, 3, 3])\n",
            "_decoder.residual_stack._layers.1._block.3.weight torch.Size([128, 32, 1, 1])\n",
            "_decoder.residual_stack._layers.2._block.1.weight torch.Size([32, 128, 3, 3])\n",
            "_decoder.residual_stack._layers.2._block.3.weight torch.Size([128, 32, 1, 1])\n",
            "_decoder.residual_stack._layers.3._block.1.weight torch.Size([32, 128, 3, 3])\n",
            "_decoder.residual_stack._layers.3._block.3.weight torch.Size([128, 32, 1, 1])\n",
            "_decoder.residual_stack._layers.4._block.1.weight torch.Size([32, 128, 3, 3])\n",
            "_decoder.residual_stack._layers.4._block.3.weight torch.Size([128, 32, 1, 1])\n",
            "_decoder.residual_stack._layers.5._block.1.weight torch.Size([32, 128, 3, 3])\n",
            "_decoder.residual_stack._layers.5._block.3.weight torch.Size([128, 32, 1, 1])\n",
            "_decoder.residual_stack._layers.6._block.1.weight torch.Size([32, 128, 3, 3])\n",
            "_decoder.residual_stack._layers.6._block.3.weight torch.Size([128, 32, 1, 1])\n",
            "_decoder.residual_stack._layers.7._block.1.weight torch.Size([32, 128, 3, 3])\n",
            "_decoder.residual_stack._layers.7._block.3.weight torch.Size([128, 32, 1, 1])\n",
            "_decoder.residual_stack._layers.8._block.1.weight torch.Size([32, 128, 3, 3])\n",
            "_decoder.residual_stack._layers.8._block.3.weight torch.Size([128, 32, 1, 1])\n",
            "_decoder.residual_stack._layers.9._block.1.weight torch.Size([32, 128, 3, 3])\n",
            "_decoder.residual_stack._layers.9._block.3.weight torch.Size([128, 32, 1, 1])\n",
            "_decoder.residual_stack._layers.10._block.1.weight torch.Size([32, 128, 3, 3])\n",
            "_decoder.residual_stack._layers.10._block.3.weight torch.Size([128, 32, 1, 1])\n",
            "_decoder.residual_stack._layers.11._block.1.weight torch.Size([32, 128, 3, 3])\n",
            "_decoder.residual_stack._layers.11._block.3.weight torch.Size([128, 32, 1, 1])\n",
            "_decoder.residual_stack._layers.12._block.1.weight torch.Size([32, 128, 3, 3])\n",
            "_decoder.residual_stack._layers.12._block.3.weight torch.Size([128, 32, 1, 1])\n",
            "_decoder.residual_stack._layers.13._block.1.weight torch.Size([32, 128, 3, 3])\n",
            "_decoder.residual_stack._layers.13._block.3.weight torch.Size([128, 32, 1, 1])\n",
            "_decoder.residual_stack._layers.14._block.1.weight torch.Size([32, 128, 3, 3])\n",
            "_decoder.residual_stack._layers.14._block.3.weight torch.Size([128, 32, 1, 1])\n",
            "_decoder.residual_stack._layers.15._block.1.weight torch.Size([32, 128, 3, 3])\n",
            "_decoder.residual_stack._layers.15._block.3.weight torch.Size([128, 32, 1, 1])\n",
            "_decoder.residual_stack._layers.16._block.1.weight torch.Size([32, 128, 3, 3])\n",
            "_decoder.residual_stack._layers.16._block.3.weight torch.Size([128, 32, 1, 1])\n",
            "_decoder.residual_stack._layers.17._block.1.weight torch.Size([32, 128, 3, 3])\n",
            "_decoder.residual_stack._layers.17._block.3.weight torch.Size([128, 32, 1, 1])\n",
            "_decoder.residual_stack._layers.18._block.1.weight torch.Size([32, 128, 3, 3])\n",
            "_decoder.residual_stack._layers.18._block.3.weight torch.Size([128, 32, 1, 1])\n",
            "_decoder.residual_stack._layers.19._block.1.weight torch.Size([32, 128, 3, 3])\n",
            "_decoder.residual_stack._layers.19._block.3.weight torch.Size([128, 32, 1, 1])\n",
            "_decoder.residual_stack._layers.20._block.1.weight torch.Size([32, 128, 3, 3])\n",
            "_decoder.residual_stack._layers.20._block.3.weight torch.Size([128, 32, 1, 1])\n",
            "_decoder.residual_stack._layers.21._block.1.weight torch.Size([32, 128, 3, 3])\n",
            "_decoder.residual_stack._layers.21._block.3.weight torch.Size([128, 32, 1, 1])\n",
            "_decoder.residual_stack._layers.22._block.1.weight torch.Size([32, 128, 3, 3])\n",
            "_decoder.residual_stack._layers.22._block.3.weight torch.Size([128, 32, 1, 1])\n",
            "_decoder.residual_stack._layers.23._block.1.weight torch.Size([32, 128, 3, 3])\n",
            "_decoder.residual_stack._layers.23._block.3.weight torch.Size([128, 32, 1, 1])\n",
            "_decoder.residual_stack._layers.24._block.1.weight torch.Size([32, 128, 3, 3])\n",
            "_decoder.residual_stack._layers.24._block.3.weight torch.Size([128, 32, 1, 1])\n",
            "_decoder.residual_stack._layers.25._block.1.weight torch.Size([32, 128, 3, 3])\n",
            "_decoder.residual_stack._layers.25._block.3.weight torch.Size([128, 32, 1, 1])\n",
            "_decoder.residual_stack._layers.26._block.1.weight torch.Size([32, 128, 3, 3])\n",
            "_decoder.residual_stack._layers.26._block.3.weight torch.Size([128, 32, 1, 1])\n",
            "_decoder.residual_stack._layers.27._block.1.weight torch.Size([32, 128, 3, 3])\n",
            "_decoder.residual_stack._layers.27._block.3.weight torch.Size([128, 32, 1, 1])\n",
            "_decoder.residual_stack._layers.28._block.1.weight torch.Size([32, 128, 3, 3])\n",
            "_decoder.residual_stack._layers.28._block.3.weight torch.Size([128, 32, 1, 1])\n",
            "_decoder.residual_stack._layers.29._block.1.weight torch.Size([32, 128, 3, 3])\n",
            "_decoder.residual_stack._layers.29._block.3.weight torch.Size([128, 32, 1, 1])\n",
            "_decoder.residual_stack._layers.30._block.1.weight torch.Size([32, 128, 3, 3])\n",
            "_decoder.residual_stack._layers.30._block.3.weight torch.Size([128, 32, 1, 1])\n",
            "_decoder.residual_stack._layers.31._block.1.weight torch.Size([32, 128, 3, 3])\n",
            "_decoder.residual_stack._layers.31._block.3.weight torch.Size([128, 32, 1, 1])\n",
            "_decoder.residual_stack._layers.32._block.1.weight torch.Size([32, 128, 3, 3])\n",
            "_decoder.residual_stack._layers.32._block.3.weight torch.Size([128, 32, 1, 1])\n",
            "_decoder.residual_stack._layers.33._block.1.weight torch.Size([32, 128, 3, 3])\n",
            "_decoder.residual_stack._layers.33._block.3.weight torch.Size([128, 32, 1, 1])\n",
            "_decoder._conv_trans_1.weight torch.Size([128, 64, 4, 4])\n",
            "_decoder._conv_trans_1.bias torch.Size([64])\n",
            "_decoder._conv_trans_2.weight torch.Size([64, 3, 4, 4])\n",
            "_decoder._conv_trans_2.bias torch.Size([3])\n"
          ]
        }
      ]
    },
    {
      "cell_type": "code",
      "source": [
        "optimizer = optim.Adam(model.parameters(),lr=lr,amsgrad=False)"
      ],
      "metadata": {
        "id": "YbEFVa3tTjDz"
      },
      "execution_count": 22,
      "outputs": []
    },
    {
      "cell_type": "code",
      "source": [
        "model.train()\n",
        "train_res_recon_error = []\n",
        "train_res_perplexity = []\n",
        "\n",
        "for i in range(no_training_updates):\n",
        "      (data,_) = next(iter(training_loader))\n",
        "      data = data.to(device)\n",
        "      optimizer.zero_grad()\n",
        "\n",
        "      vq_loss,data_recon,perplexity = model(data)\n",
        "      recon_error = F.mse_loss(data_recon,data)/data_var\n",
        "      loss = recon_error + vq_loss\n",
        "      loss.backward()\n",
        "\n",
        "      optimizer.step()\n",
        "\n",
        "      train_res_recon_error.append(recon_error.item())\n",
        "      train_res_perplexity.append(perplexity.item())\n",
        "\n",
        "      if((i+1)%100==0):\n",
        "          print('%d iterations' %(i+1))\n",
        "          print('recon errror: %.3f'% np.mean(train_res_recon_error[-100:]))\n",
        "          print('perplexity: %.3f' %np.mean(train_res_perplexity[-100:]))\n",
        "          print()"
      ],
      "metadata": {
        "id": "O6aS7QPvTjJs",
        "colab": {
          "base_uri": "https://localhost:8080/"
        },
        "outputId": "5c188d1d-46e1-4399-ec3e-fd163a0cd1b1"
      },
      "execution_count": 23,
      "outputs": [
        {
          "output_type": "stream",
          "name": "stdout",
          "text": [
            "100 iterations\n",
            "recon errror: 1.041\n",
            "perplexity: 1.000\n",
            "\n",
            "200 iterations\n",
            "recon errror: 0.723\n",
            "perplexity: 3.045\n",
            "\n",
            "300 iterations\n",
            "recon errror: 0.314\n",
            "perplexity: 5.839\n",
            "\n",
            "400 iterations\n",
            "recon errror: 0.241\n",
            "perplexity: 7.974\n",
            "\n",
            "500 iterations\n",
            "recon errror: 0.220\n",
            "perplexity: 12.324\n",
            "\n",
            "600 iterations\n",
            "recon errror: 0.212\n",
            "perplexity: 20.112\n",
            "\n",
            "700 iterations\n",
            "recon errror: 0.181\n",
            "perplexity: 29.394\n",
            "\n",
            "800 iterations\n",
            "recon errror: 0.161\n",
            "perplexity: 37.529\n",
            "\n",
            "900 iterations\n",
            "recon errror: 0.152\n",
            "perplexity: 44.758\n",
            "\n",
            "1000 iterations\n",
            "recon errror: 0.147\n",
            "perplexity: 50.969\n",
            "\n",
            "1100 iterations\n",
            "recon errror: 0.142\n",
            "perplexity: 57.438\n",
            "\n",
            "1200 iterations\n",
            "recon errror: 0.139\n",
            "perplexity: 62.977\n",
            "\n",
            "1300 iterations\n",
            "recon errror: 0.138\n",
            "perplexity: 68.881\n",
            "\n",
            "1400 iterations\n",
            "recon errror: 0.131\n",
            "perplexity: 75.205\n",
            "\n",
            "1500 iterations\n",
            "recon errror: 0.123\n",
            "perplexity: 82.699\n",
            "\n",
            "1600 iterations\n",
            "recon errror: 0.118\n",
            "perplexity: 90.188\n",
            "\n",
            "1700 iterations\n",
            "recon errror: 0.105\n",
            "perplexity: 96.957\n",
            "\n",
            "1800 iterations\n",
            "recon errror: 0.100\n",
            "perplexity: 101.154\n",
            "\n",
            "1900 iterations\n",
            "recon errror: 0.099\n",
            "perplexity: 106.081\n",
            "\n",
            "2000 iterations\n",
            "recon errror: 0.101\n",
            "perplexity: 108.885\n",
            "\n",
            "2100 iterations\n",
            "recon errror: 0.099\n",
            "perplexity: 115.868\n",
            "\n",
            "2200 iterations\n",
            "recon errror: 0.096\n",
            "perplexity: 128.210\n",
            "\n",
            "2300 iterations\n",
            "recon errror: 0.094\n",
            "perplexity: 137.194\n",
            "\n",
            "2400 iterations\n",
            "recon errror: 0.089\n",
            "perplexity: 147.625\n",
            "\n",
            "2500 iterations\n",
            "recon errror: 0.088\n",
            "perplexity: 160.655\n",
            "\n",
            "2600 iterations\n",
            "recon errror: 0.086\n",
            "perplexity: 175.319\n",
            "\n",
            "2700 iterations\n",
            "recon errror: 0.083\n",
            "perplexity: 189.155\n",
            "\n",
            "2800 iterations\n",
            "recon errror: 0.081\n",
            "perplexity: 202.234\n",
            "\n",
            "2900 iterations\n",
            "recon errror: 0.080\n",
            "perplexity: 214.369\n",
            "\n",
            "3000 iterations\n",
            "recon errror: 0.078\n",
            "perplexity: 225.039\n",
            "\n",
            "3100 iterations\n",
            "recon errror: 0.078\n",
            "perplexity: 233.876\n",
            "\n",
            "3200 iterations\n",
            "recon errror: 0.077\n",
            "perplexity: 245.440\n",
            "\n",
            "3300 iterations\n",
            "recon errror: 0.076\n",
            "perplexity: 255.909\n",
            "\n",
            "3400 iterations\n",
            "recon errror: 0.074\n",
            "perplexity: 266.607\n",
            "\n",
            "3500 iterations\n",
            "recon errror: 0.074\n",
            "perplexity: 277.888\n",
            "\n",
            "3600 iterations\n",
            "recon errror: 0.074\n",
            "perplexity: 286.783\n",
            "\n",
            "3700 iterations\n",
            "recon errror: 0.072\n",
            "perplexity: 298.086\n",
            "\n",
            "3800 iterations\n",
            "recon errror: 0.072\n",
            "perplexity: 307.498\n",
            "\n",
            "3900 iterations\n",
            "recon errror: 0.071\n",
            "perplexity: 314.565\n",
            "\n",
            "4000 iterations\n",
            "recon errror: 0.068\n",
            "perplexity: 326.535\n",
            "\n",
            "4100 iterations\n",
            "recon errror: 0.067\n",
            "perplexity: 331.827\n",
            "\n",
            "4200 iterations\n",
            "recon errror: 0.066\n",
            "perplexity: 337.600\n",
            "\n",
            "4300 iterations\n",
            "recon errror: 0.066\n",
            "perplexity: 347.554\n",
            "\n",
            "4400 iterations\n",
            "recon errror: 0.065\n",
            "perplexity: 356.095\n",
            "\n",
            "4500 iterations\n",
            "recon errror: 0.065\n",
            "perplexity: 366.381\n",
            "\n",
            "4600 iterations\n",
            "recon errror: 0.064\n",
            "perplexity: 375.522\n",
            "\n",
            "4700 iterations\n",
            "recon errror: 0.065\n",
            "perplexity: 384.716\n",
            "\n",
            "4800 iterations\n",
            "recon errror: 0.064\n",
            "perplexity: 392.296\n",
            "\n",
            "4900 iterations\n",
            "recon errror: 0.063\n",
            "perplexity: 399.360\n",
            "\n",
            "5000 iterations\n",
            "recon errror: 0.063\n",
            "perplexity: 408.460\n",
            "\n",
            "5100 iterations\n",
            "recon errror: 0.062\n",
            "perplexity: 417.882\n",
            "\n",
            "5200 iterations\n",
            "recon errror: 0.063\n",
            "perplexity: 421.721\n",
            "\n",
            "5300 iterations\n",
            "recon errror: 0.061\n",
            "perplexity: 430.545\n",
            "\n",
            "5400 iterations\n",
            "recon errror: 0.062\n",
            "perplexity: 434.828\n",
            "\n",
            "5500 iterations\n",
            "recon errror: 0.061\n",
            "perplexity: 434.417\n",
            "\n",
            "5600 iterations\n",
            "recon errror: 0.061\n",
            "perplexity: 433.636\n",
            "\n",
            "5700 iterations\n",
            "recon errror: 0.061\n",
            "perplexity: 430.834\n",
            "\n",
            "5800 iterations\n",
            "recon errror: 0.061\n",
            "perplexity: 428.945\n",
            "\n",
            "5900 iterations\n",
            "recon errror: 0.060\n",
            "perplexity: 428.445\n",
            "\n",
            "6000 iterations\n",
            "recon errror: 0.060\n",
            "perplexity: 427.377\n",
            "\n",
            "6100 iterations\n",
            "recon errror: 0.061\n",
            "perplexity: 426.876\n",
            "\n",
            "6200 iterations\n",
            "recon errror: 0.059\n",
            "perplexity: 428.792\n",
            "\n",
            "6300 iterations\n",
            "recon errror: 0.060\n",
            "perplexity: 426.007\n",
            "\n",
            "6400 iterations\n",
            "recon errror: 0.059\n",
            "perplexity: 427.780\n",
            "\n",
            "6500 iterations\n",
            "recon errror: 0.060\n",
            "perplexity: 425.142\n",
            "\n",
            "6600 iterations\n",
            "recon errror: 0.059\n",
            "perplexity: 426.044\n",
            "\n",
            "6700 iterations\n",
            "recon errror: 0.060\n",
            "perplexity: 425.109\n",
            "\n",
            "6800 iterations\n",
            "recon errror: 0.060\n",
            "perplexity: 423.750\n",
            "\n",
            "6900 iterations\n",
            "recon errror: 0.058\n",
            "perplexity: 427.986\n",
            "\n",
            "7000 iterations\n",
            "recon errror: 0.059\n",
            "perplexity: 424.346\n",
            "\n",
            "7100 iterations\n",
            "recon errror: 0.059\n",
            "perplexity: 426.374\n",
            "\n",
            "7200 iterations\n",
            "recon errror: 0.059\n",
            "perplexity: 424.061\n",
            "\n",
            "7300 iterations\n",
            "recon errror: 0.057\n",
            "perplexity: 426.236\n",
            "\n",
            "7400 iterations\n",
            "recon errror: 0.058\n",
            "perplexity: 424.552\n",
            "\n",
            "7500 iterations\n",
            "recon errror: 0.058\n",
            "perplexity: 424.759\n",
            "\n",
            "7600 iterations\n",
            "recon errror: 0.058\n",
            "perplexity: 425.861\n",
            "\n",
            "7700 iterations\n",
            "recon errror: 0.058\n",
            "perplexity: 424.521\n",
            "\n",
            "7800 iterations\n",
            "recon errror: 0.057\n",
            "perplexity: 425.413\n",
            "\n",
            "7900 iterations\n",
            "recon errror: 0.058\n",
            "perplexity: 422.944\n",
            "\n",
            "8000 iterations\n",
            "recon errror: 0.058\n",
            "perplexity: 425.252\n",
            "\n",
            "8100 iterations\n",
            "recon errror: 0.057\n",
            "perplexity: 425.542\n",
            "\n",
            "8200 iterations\n",
            "recon errror: 0.057\n",
            "perplexity: 425.225\n",
            "\n",
            "8300 iterations\n",
            "recon errror: 0.057\n",
            "perplexity: 423.153\n",
            "\n",
            "8400 iterations\n",
            "recon errror: 0.057\n",
            "perplexity: 424.989\n",
            "\n",
            "8500 iterations\n",
            "recon errror: 0.057\n",
            "perplexity: 424.379\n",
            "\n",
            "8600 iterations\n",
            "recon errror: 0.057\n",
            "perplexity: 424.323\n",
            "\n",
            "8700 iterations\n",
            "recon errror: 0.056\n",
            "perplexity: 422.206\n",
            "\n",
            "8800 iterations\n",
            "recon errror: 0.056\n",
            "perplexity: 423.985\n",
            "\n",
            "8900 iterations\n",
            "recon errror: 0.056\n",
            "perplexity: 424.165\n",
            "\n",
            "9000 iterations\n",
            "recon errror: 0.059\n",
            "perplexity: 419.904\n",
            "\n",
            "9100 iterations\n",
            "recon errror: 0.056\n",
            "perplexity: 426.488\n",
            "\n",
            "9200 iterations\n",
            "recon errror: 0.055\n",
            "perplexity: 425.603\n",
            "\n",
            "9300 iterations\n",
            "recon errror: 0.056\n",
            "perplexity: 422.573\n",
            "\n",
            "9400 iterations\n",
            "recon errror: 0.056\n",
            "perplexity: 425.686\n",
            "\n",
            "9500 iterations\n",
            "recon errror: 0.056\n",
            "perplexity: 424.890\n",
            "\n",
            "9600 iterations\n",
            "recon errror: 0.056\n",
            "perplexity: 424.105\n",
            "\n",
            "9700 iterations\n",
            "recon errror: 0.055\n",
            "perplexity: 424.273\n",
            "\n",
            "9800 iterations\n",
            "recon errror: 0.056\n",
            "perplexity: 424.852\n",
            "\n",
            "9900 iterations\n",
            "recon errror: 0.055\n",
            "perplexity: 423.812\n",
            "\n",
            "10000 iterations\n",
            "recon errror: 0.055\n",
            "perplexity: 422.706\n",
            "\n",
            "10100 iterations\n",
            "recon errror: 0.055\n",
            "perplexity: 425.126\n",
            "\n",
            "10200 iterations\n",
            "recon errror: 0.055\n",
            "perplexity: 424.473\n",
            "\n",
            "10300 iterations\n",
            "recon errror: 0.055\n",
            "perplexity: 424.429\n",
            "\n",
            "10400 iterations\n",
            "recon errror: 0.055\n",
            "perplexity: 424.165\n",
            "\n",
            "10500 iterations\n",
            "recon errror: 0.055\n",
            "perplexity: 422.544\n",
            "\n",
            "10600 iterations\n",
            "recon errror: 0.055\n",
            "perplexity: 425.044\n",
            "\n",
            "10700 iterations\n",
            "recon errror: 0.055\n",
            "perplexity: 424.472\n",
            "\n",
            "10800 iterations\n",
            "recon errror: 0.055\n",
            "perplexity: 424.818\n",
            "\n",
            "10900 iterations\n",
            "recon errror: 0.054\n",
            "perplexity: 424.237\n",
            "\n",
            "11000 iterations\n",
            "recon errror: 0.055\n",
            "perplexity: 425.039\n",
            "\n",
            "11100 iterations\n",
            "recon errror: 0.054\n",
            "perplexity: 425.584\n",
            "\n",
            "11200 iterations\n",
            "recon errror: 0.054\n",
            "perplexity: 424.811\n",
            "\n",
            "11300 iterations\n",
            "recon errror: 0.054\n",
            "perplexity: 424.151\n",
            "\n",
            "11400 iterations\n",
            "recon errror: 0.054\n",
            "perplexity: 424.985\n",
            "\n",
            "11500 iterations\n",
            "recon errror: 0.054\n",
            "perplexity: 425.121\n",
            "\n",
            "11600 iterations\n",
            "recon errror: 0.054\n",
            "perplexity: 423.565\n",
            "\n",
            "11700 iterations\n",
            "recon errror: 0.053\n",
            "perplexity: 425.993\n",
            "\n",
            "11800 iterations\n",
            "recon errror: 0.054\n",
            "perplexity: 425.572\n",
            "\n",
            "11900 iterations\n",
            "recon errror: 0.054\n",
            "perplexity: 425.349\n",
            "\n",
            "12000 iterations\n",
            "recon errror: 0.053\n",
            "perplexity: 423.625\n",
            "\n",
            "12100 iterations\n",
            "recon errror: 0.054\n",
            "perplexity: 426.337\n",
            "\n",
            "12200 iterations\n",
            "recon errror: 0.054\n",
            "perplexity: 424.545\n",
            "\n",
            "12300 iterations\n",
            "recon errror: 0.053\n",
            "perplexity: 426.448\n",
            "\n",
            "12400 iterations\n",
            "recon errror: 0.054\n",
            "perplexity: 423.697\n",
            "\n",
            "12500 iterations\n",
            "recon errror: 0.053\n",
            "perplexity: 425.487\n",
            "\n",
            "12600 iterations\n",
            "recon errror: 0.054\n",
            "perplexity: 424.553\n",
            "\n",
            "12700 iterations\n",
            "recon errror: 0.053\n",
            "perplexity: 424.271\n",
            "\n",
            "12800 iterations\n",
            "recon errror: 0.053\n",
            "perplexity: 426.739\n",
            "\n",
            "12900 iterations\n",
            "recon errror: 0.053\n",
            "perplexity: 425.204\n",
            "\n",
            "13000 iterations\n",
            "recon errror: 0.053\n",
            "perplexity: 424.889\n",
            "\n",
            "13100 iterations\n",
            "recon errror: 0.053\n",
            "perplexity: 424.817\n",
            "\n",
            "13200 iterations\n",
            "recon errror: 0.053\n",
            "perplexity: 425.879\n",
            "\n",
            "13300 iterations\n",
            "recon errror: 0.053\n",
            "perplexity: 424.843\n",
            "\n",
            "13400 iterations\n",
            "recon errror: 0.053\n",
            "perplexity: 424.299\n",
            "\n",
            "13500 iterations\n",
            "recon errror: 0.053\n",
            "perplexity: 425.787\n",
            "\n",
            "13600 iterations\n",
            "recon errror: 0.053\n",
            "perplexity: 425.583\n",
            "\n",
            "13700 iterations\n",
            "recon errror: 0.052\n",
            "perplexity: 425.656\n",
            "\n",
            "13800 iterations\n",
            "recon errror: 0.053\n",
            "perplexity: 423.601\n",
            "\n",
            "13900 iterations\n",
            "recon errror: 0.053\n",
            "perplexity: 425.302\n",
            "\n",
            "14000 iterations\n",
            "recon errror: 0.053\n",
            "perplexity: 425.989\n",
            "\n",
            "14100 iterations\n",
            "recon errror: 0.053\n",
            "perplexity: 426.417\n",
            "\n",
            "14200 iterations\n",
            "recon errror: 0.053\n",
            "perplexity: 425.954\n",
            "\n",
            "14300 iterations\n",
            "recon errror: 0.053\n",
            "perplexity: 425.284\n",
            "\n",
            "14400 iterations\n",
            "recon errror: 0.052\n",
            "perplexity: 426.489\n",
            "\n",
            "14500 iterations\n",
            "recon errror: 0.052\n",
            "perplexity: 424.777\n",
            "\n",
            "14600 iterations\n",
            "recon errror: 0.052\n",
            "perplexity: 425.217\n",
            "\n",
            "14700 iterations\n",
            "recon errror: 0.052\n",
            "perplexity: 426.106\n",
            "\n",
            "14800 iterations\n",
            "recon errror: 0.052\n",
            "perplexity: 426.416\n",
            "\n",
            "14900 iterations\n",
            "recon errror: 0.052\n",
            "perplexity: 425.214\n",
            "\n",
            "15000 iterations\n",
            "recon errror: 0.052\n",
            "perplexity: 425.748\n",
            "\n"
          ]
        }
      ]
    },
    {
      "cell_type": "code",
      "source": [
        "train_res_recon_error_smooth = savgol_filter(train_res_recon_error, 201, 7)\n",
        "train_res_perplexity_smooth = savgol_filter(train_res_perplexity, 201, 7)"
      ],
      "metadata": {
        "id": "K_cqgFbNTjOx"
      },
      "execution_count": 24,
      "outputs": []
    },
    {
      "cell_type": "code",
      "source": [
        "f = plt.figure(figsize=(16,8))\n",
        "ax = f.add_subplot(1,2,1)\n",
        "ax.plot(train_res_recon_error)\n",
        "ax.set_yscale('log')\n",
        "ax.set_title('Smoothed NMSE.')\n",
        "ax.set_xlabel('iteration')\n",
        "\n",
        "ax = f.add_subplot(1,2,2)\n",
        "ax.plot(train_res_perplexity)\n",
        "ax.set_title('Smoothed Average codebook usage (perplexity).')\n",
        "ax.set_xlabel('iteration')"
      ],
      "metadata": {
        "id": "0QHpBAm4TjTp",
        "colab": {
          "base_uri": "https://localhost:8080/",
          "height": 530
        },
        "outputId": "c3bc4ff2-f154-43a8-9cda-714b543517d3"
      },
      "execution_count": 25,
      "outputs": [
        {
          "output_type": "execute_result",
          "data": {
            "text/plain": [
              "Text(0.5, 0, 'iteration')"
            ]
          },
          "metadata": {},
          "execution_count": 25
        },
        {
          "output_type": "display_data",
          "data": {
            "text/plain": [
              "<Figure size 1152x576 with 2 Axes>"
            ],
            "image/png": "[encoded data removed]"
          },
          "metadata": {
            "needs_background": "light"
          }
        }
      ]
    },
    {
      "cell_type": "code",
      "source": [
        "model.eval()\n",
        "\n",
        "(valid_originals, _) = next(iter(validation_loader))\n",
        "valid_originals = valid_originals.to(device)\n",
        "\n",
        "vq_output_eval = model.pre_vq_conv(model._encoder(valid_originals))\n",
        "_, valid_quantize, _, _ = model._vq_vae(vq_output_eval)\n",
        "valid_reconstructions = model._decoder(valid_quantize)"
      ],
      "metadata": {
        "id": "BuxmmFoUTjZW"
      },
      "execution_count": 26,
      "outputs": []
    },
    {
      "cell_type": "code",
      "source": [
        "(train_originals, _) = next(iter(training_loader))\n",
        "train_originals = train_originals.to(device)\n",
        "_, train_reconstructions, _, _ = model._vq_vae(train_originals)"
      ],
      "metadata": {
        "id": "rRxsqJPITjdj"
      },
      "execution_count": 27,
      "outputs": []
    },
    {
      "cell_type": "code",
      "source": [
        "def show(img):\n",
        "    npimg = img.numpy()\n",
        "    fig = plt.imshow(np.transpose(npimg, (1,2,0)), interpolation='nearest')\n",
        "    fig.axes.get_xaxis().set_visible(False)\n",
        "    fig.axes.get_yaxis().set_visible(False)"
      ],
      "metadata": {
        "id": "sRQZh1eMTji6"
      },
      "execution_count": 29,
      "outputs": []
    },
    {
      "cell_type": "code",
      "source": [
        "show(make_grid(valid_reconstructions.cpu().data)+0.5, )"
      ],
      "metadata": {
        "id": "c5ZdHMdzTjpL",
        "colab": {
          "base_uri": "https://localhost:8080/",
          "height": 220
        },
        "outputId": "e6fdf3c5-5aac-4264-931c-7376c26cf923"
      },
      "execution_count": 30,
      "outputs": [
        {
          "output_type": "stream",
          "name": "stderr",
          "text": [
            "WARNING:matplotlib.image:Clipping input data to the valid range for imshow with RGB data ([0..1] for floats or [0..255] for integers).\n"
          ]
        },
        {
          "output_type": "display_data",
          "data": {
            "text/plain": [
              "<Figure size 432x288 with 1 Axes>"
            ],
            "image/png": "[encoded data removed]"
          },
          "metadata": {
            "needs_background": "light"
          }
        }
      ]
    },
    {
      "cell_type": "code",
      "source": [
        "show(make_grid(valid_originals.cpu()+0.5))"
      ],
      "metadata": {
        "id": "UdiDT_srTjsu",
        "colab": {
          "base_uri": "https://localhost:8080/",
          "height": 203
        },
        "outputId": "e024e8ca-433b-4014-d2ed-938817facf6f"
      },
      "execution_count": 31,
      "outputs": [
        {
          "output_type": "display_data",
          "data": {
            "text/plain": [
              "<Figure size 432x288 with 1 Axes>"
            ],
            "image/png": "[encoded data removed]"
          },
          "metadata": {
            "needs_background": "light"
          }
        }
      ]
    },
    {
      "cell_type": "code",
      "source": [
        "show(make_grid(train_reconstructions.cpu().data)+0.5, )"
      ],
      "metadata": {
        "id": "V-lvPBvd3ddy",
        "outputId": "94690c4f-0a30-49a8-acfa-115fb0a2402e",
        "colab": {
          "base_uri": "https://localhost:8080/",
          "height": 269
        }
      },
      "execution_count": 32,
      "outputs": [
        {
          "output_type": "stream",
          "name": "stderr",
          "text": [
            "WARNING:matplotlib.image:Clipping input data to the valid range for imshow with RGB data ([0..1] for floats or [0..255] for integers).\n"
          ]
        },
        {
          "output_type": "display_data",
          "data": {
            "text/plain": [
              "<Figure size 432x288 with 1 Axes>"
            ],
            "image/png": "[encoded data removed]"
          },
          "metadata": {
            "needs_background": "light"
          }
        }
      ]
    },
    {
      "cell_type": "code",
      "source": [
        "show(make_grid(train_originals.cpu()+0.5))"
      ],
      "metadata": {
        "id": "NoLvK10U3epP",
        "outputId": "e7fa54e9-130e-47da-9171-0a2a7f523049",
        "colab": {
          "base_uri": "https://localhost:8080/",
          "height": 252
        }
      },
      "execution_count": 33,
      "outputs": [
        {
          "output_type": "display_data",
          "data": {
            "text/plain": [
              "<Figure size 432x288 with 1 Axes>"
            ],
            "image/png": "[encoded data removed]"
          },
          "metadata": {
            "needs_background": "light"
          }
        }
      ]
    },
    {
      "cell_type": "code",
      "source": [
        "proj = umap.UMAP(n_neighbors=3,\n",
        "                 min_dist=0.1,\n",
        "                 metric='cosine').fit_transform(model._vq_vae.embedding.weight.data.cpu())"
      ],
      "metadata": {
        "id": "KhmclLfxTjzH"
      },
      "execution_count": 34,
      "outputs": []
    },
    {
      "cell_type": "code",
      "source": [
        "plt.scatter(proj[:,0], proj[:,1], alpha=0.3) "
      ],
      "metadata": {
        "id": "qC0uYPCeTj23",
        "colab": {
          "base_uri": "https://localhost:8080/",
          "height": 282
        },
        "outputId": "eb84d6a5-8bcf-4836-e3e3-da7afbfd7794"
      },
      "execution_count": 35,
      "outputs": [
        {
          "output_type": "execute_result",
          "data": {
            "text/plain": [
              "<matplotlib.collections.PathCollection at 0x7f93cb7b4cd0>"
            ]
          },
          "metadata": {},
          "execution_count": 35
        },
        {
          "output_type": "display_data",
          "data": {
            "text/plain": [
              "<Figure size 432x288 with 1 Axes>"
            ],
            "image/png": "[encoded data removed]"
          },
          "metadata": {
            "needs_background": "light"
          }
        }
      ]
    },
    {
      "cell_type": "code",
      "source": [],
      "metadata": {
        "id": "yiDGSCQETj7Q"
      },
      "execution_count": null,
      "outputs": []
    },
    {
      "cell_type": "code",
      "source": [],
      "metadata": {
        "id": "yTkWyR_NTj_g"
      },
      "execution_count": null,
      "outputs": []
    },
    {
      "cell_type": "code",
      "source": [],
      "metadata": {
        "id": "rblu4fDTTkER"
      },
      "execution_count": null,
      "outputs": []
    },
    {
      "cell_type": "code",
      "source": [],
      "metadata": {
        "id": "R0ZsbF2kTkJx"
      },
      "execution_count": null,
      "outputs": []
    },
    {
      "cell_type": "code",
      "source": [],
      "metadata": {
        "id": "q5gNZfomTkMk"
      },
      "execution_count": null,
      "outputs": []
    },
    {
      "cell_type": "code",
      "source": [],
      "metadata": {
        "id": "OfTRYpyjTkQN"
      },
      "execution_count": null,
      "outputs": []
    },
    {
      "cell_type": "code",
      "source": [],
      "metadata": {
        "id": "AqVv3Mr6TkUq"
      },
      "execution_count": null,
      "outputs": []
    },
    {
      "cell_type": "code",
      "source": [],
      "metadata": {
        "id": "2TH7ZZ7ETkZQ"
      },
      "execution_count": null,
      "outputs": []
    },
    {
      "cell_type": "code",
      "source": [],
      "metadata": {
        "id": "d_NRK-TTTkdE"
      },
      "execution_count": null,
      "outputs": []
    },
    {
      "cell_type": "code",
      "source": [],
      "metadata": {
        "id": "rIfH04RdTkhH"
      },
      "execution_count": null,
      "outputs": []
    },
    {
      "cell_type": "code",
      "source": [],
      "metadata": {
        "id": "IKgC1XPhTkl7"
      },
      "execution_count": null,
      "outputs": []
    },
    {
      "cell_type": "code",
      "source": [],
      "metadata": {
        "id": "-yAX1n9wTkql"
      },
      "execution_count": null,
      "outputs": []
    },
    {
      "cell_type": "code",
      "source": [],
      "metadata": {
        "id": "5tRgMJ9LTkyT"
      },
      "execution_count": null,
      "outputs": []
    },
    {
      "cell_type": "code",
      "source": [],
      "metadata": {
        "id": "F3XI6OB-Tk2c"
      },
      "execution_count": null,
      "outputs": []
    },
    {
      "cell_type": "code",
      "source": [],
      "metadata": {
        "id": "2Yw4NBxkTk6i"
      },
      "execution_count": null,
      "outputs": []
    },
    {
      "cell_type": "code",
      "source": [],
      "metadata": {
        "id": "LeRTm9icTk-V"
      },
      "execution_count": null,
      "outputs": []
    },
    {
      "cell_type": "code",
      "source": [],
      "metadata": {
        "id": "WuIQhl52TlCx"
      },
      "execution_count": null,
      "outputs": []
    },
    {
      "cell_type": "code",
      "source": [],
      "metadata": {
        "id": "UY8lkEezTlGY"
      },
      "execution_count": null,
      "outputs": []
    },
    {
      "cell_type": "code",
      "source": [],
      "metadata": {
        "id": "f4py9YzSTlJt"
      },
      "execution_count": null,
      "outputs": []
    },
    {
      "cell_type": "code",
      "source": [],
      "metadata": {
        "id": "A4GaX3k2TlNb"
      },
      "execution_count": null,
      "outputs": []
    },
    {
      "cell_type": "code",
      "source": [],
      "metadata": {
        "id": "89aGzO1STlQ2"
      },
      "execution_count": null,
      "outputs": []
    },
    {
      "cell_type": "code",
      "source": [],
      "metadata": {
        "id": "l6exNJ8_TlXi"
      },
      "execution_count": null,
      "outputs": []
    },
    {
      "cell_type": "code",
      "source": [],
      "metadata": {
        "id": "ytiXZPEgTlbD"
      },
      "execution_count": null,
      "outputs": []
    },
    {
      "cell_type": "code",
      "source": [],
      "metadata": {
        "id": "bvfK0-RuTlen"
      },
      "execution_count": null,
      "outputs": []
    },
    {
      "cell_type": "code",
      "source": [],
      "metadata": {
        "id": "tuLJY6pCTliK"
      },
      "execution_count": null,
      "outputs": []
    },
    {
      "cell_type": "code",
      "source": [],
      "metadata": {
        "id": "5RZvMpabTllj"
      },
      "execution_count": null,
      "outputs": []
    },
    {
      "cell_type": "code",
      "source": [],
      "metadata": {
        "id": "IubPaOmcTlov"
      },
      "execution_count": null,
      "outputs": []
    },
    {
      "cell_type": "code",
      "source": [],
      "metadata": {
        "id": "uV_dRh9NTltc"
      },
      "execution_count": null,
      "outputs": []
    },
    {
      "cell_type": "code",
      "source": [],
      "metadata": {
        "id": "LX7RSOPNTlw_"
      },
      "execution_count": null,
      "outputs": []
    },
    {
      "cell_type": "code",
      "source": [],
      "metadata": {
        "id": "y6KbupKnTl0Z"
      },
      "execution_count": null,
      "outputs": []
    }
  ]
}